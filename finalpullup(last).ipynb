{
 "cells": [
  {
   "cell_type": "code",
   "execution_count": 2,
   "metadata": {},
   "outputs": [],
   "source": [
    "# k = int(input(\"enter the number\"))"
   ]
  },
  {
   "cell_type": "code",
   "execution_count": 1,
   "metadata": {},
   "outputs": [
    {
     "name": "stderr",
     "output_type": "stream",
     "text": [
      "INFO: Created TensorFlow Lite XNNPACK delegate for CPU.\n",
      "Warning: Ignoring XDG_SESSION_TYPE=wayland on Gnome. Use QT_QPA_PLATFORM=wayland to run on Wayland anyway.\n"
     ]
    }
   ],
   "source": [
    "import cv2\n",
    "import mediapipe as mp\n",
    "k = int(input(\"enter the number\"))\n",
    "li = [0,10,10,9,12,11,10,10,9,12,11,10,10,9,12,11,10,10,9,12,11,10,10,9,12,11,10,10,9,12,11,10,10,9,12,11,10,10,9,12,11,10,10,9,12,11,10,10,9,12,11,10,10,9,12,11,10,10,9,12,11,10,10,9,12,11,10,10,9,12,11,10,10,9,12,11]\n",
    "# Initialize mediapipe\n",
    "mp_drawing = mp.solutions.drawing_utils\n",
    "mp_pose = mp.solutions.pose\n",
    "# k = int(\"input the number: \")\n",
    "# Initialize video capture device\n",
    "cap = cv2.VideoCapture(0)\n",
    "\n",
    "with mp_pose.Pose(min_detection_confidence=0.5, min_tracking_confidence=0.5) as pose:\n",
    "    pull_ups = 0\n",
    "    prev_y = 0\n",
    "    count = 0\n",
    "    state = \"down\"  # Initial state\n",
    "    while True:\n",
    "        # Capture frame-by-frame\n",
    "        ret, frame = cap.read()\n",
    "\n",
    "        # Convert to RGB\n",
    "        image = cv2.cvtColor(frame, cv2.COLOR_BGR2RGB)\n",
    "        \n",
    "        # Define start and end points for the pull-up counting lines\n",
    "        upper_line_start = (0, 100)\n",
    "        upper_line_end = (frame.shape[1], 100)\n",
    "        lower_line_start = (0, 350)\n",
    "        lower_line_end = (frame.shape[1], 350)\n",
    "        \n",
    "        # Define line color and thickness\n",
    "        line_color = (0, 255, 0)\n",
    "        line_thickness = 2\n",
    "        \n",
    "        # Draw the pull-up counting lines on the frame\n",
    "        frame = cv2.line(frame, upper_line_start, upper_line_end, line_color, line_thickness)\n",
    "        frame = cv2.line(frame, lower_line_start, lower_line_end, line_color, line_thickness)\n",
    "\n",
    "        # Set the image as input to the pose model\n",
    "        results = pose.process(image)\n",
    "\n",
    "        # Extract the nose landmark\n",
    "        if results.pose_landmarks:\n",
    "            nose_landmark = results.pose_landmarks.landmark[mp_pose.PoseLandmark.NOSE]\n",
    "\n",
    "            # Get the y coordinate of the nose landmark\n",
    "            y = int(nose_landmark.y * frame.shape[0])\n",
    "            \n",
    "            # Draw a red circle around the nose landmark\n",
    "            cv2.circle(frame, (int(nose_landmark.x * frame.shape[1]), y), 5, (0, 0, 255), -1)\n",
    "\n",
    "            # Display the y coordinate of the nose position at the top right corner\n",
    "            cv2.putText(frame, f\"y: {y}\", (frame.shape[1] - 100, 50),\n",
    "                        cv2.FONT_HERSHEY_SIMPLEX, 1, (0, 0, 255), 2)\n",
    "            \n",
    "            # Check if the nose landmark has crossed the pull-up counting lines\n",
    "            if state == \"down\":\n",
    "                if prev_y > lower_line_start[1] and y <= lower_line_start[1]:\n",
    "                    state = \"up\"\n",
    "            elif state == \"up\":\n",
    "                if prev_y < upper_line_start[1] and y >= upper_line_start[1]:\n",
    "                    state = \"down\"\n",
    "                    pull_ups += 1\n",
    "                \n",
    "            # Update the previous y coordinate\n",
    "            prev_y = y\n",
    "        \n",
    "        # Display the pull-up count on the frame\n",
    "        cv2.putText(frame, f\"Pull-ups: {pull_ups}\", (10, 50),\n",
    "                    cv2.FONT_HERSHEY_SIMPLEX, 1, (0, 0, 255), 2)\n",
    "        \n",
    "        # Display the resulting frame\n",
    "        cv2.imshow('Nose detection', frame)\n",
    "        # if pull_ups==li[k]:\n",
    "        #     # cv2.putText(frame, f\"good job you are done\", (10, 50),\n",
    "        #     #         cv2.FONT_HERSHEY_SIMPLEX, 1, (0, 0, 255), 2)\n",
    "        #     break\n",
    "        # Exit loop on \"q\" key press\n",
    "        if cv2.waitKey(1) & 0xFF == ord('q'):\n",
    "            break\n",
    "    \n",
    "        \n",
    "        \n",
    "\n",
    "# Release the capture\n",
    "cap.release()\n",
    "cv2.destroyAllWindows()\n",
    "if pull_ups==li[k]:\n",
    "    img=cv2.imread(\"1.jpg\",1)\n",
    "    cv2.imshow(\"is the answer correct\",img)\n",
    "    cv2.waitKey(0)\n",
    "else:\n",
    "    img=cv2.imread(\"0.jpg\",1)\n",
    "    cv2.imshow(\"uh oh wrong answer correct\",img)\n",
    "    cv2.waitKey(0)\n",
    "\n",
    "\n"
   ]
  },
  {
   "cell_type": "code",
   "execution_count": 2,
   "metadata": {},
   "outputs": [
    {
     "data": {
      "text/plain": [
       "76"
      ]
     },
     "execution_count": 2,
     "metadata": {},
     "output_type": "execute_result"
    }
   ],
   "source": [
    "li = [0,10,10,9,12,11,10,10,9,12,11,10,10,9,12,11,10,10,9,12,11,10,10,9,12,11,10,10,9,12,11,10,10,9,12,11,10,10,9,12,11,10,10,9,12,11,10,10,9,12,11,10,10,9,12,11,10,10,9,12,11,10,10,9,12,11,10,10,9,12,11,10,10,9,12,11]\n",
    "len(li)"
   ]
  },
  {
   "cell_type": "code",
   "execution_count": null,
   "metadata": {},
   "outputs": [],
   "source": []
  }
 ],
 "metadata": {
  "kernelspec": {
   "display_name": "Python 3",
   "language": "python",
   "name": "python3"
  },
  "language_info": {
   "codemirror_mode": {
    "name": "ipython",
    "version": 3
   },
   "file_extension": ".py",
   "mimetype": "text/x-python",
   "name": "python",
   "nbconvert_exporter": "python",
   "pygments_lexer": "ipython3",
   "version": "3.11.2"
  },
  "orig_nbformat": 4,
  "vscode": {
   "interpreter": {
    "hash": "e7370f93d1d0cde622a1f8e1c04877d8463912d04d973331ad4851f04de6915a"
   }
  }
 },
 "nbformat": 4,
 "nbformat_minor": 2
}
